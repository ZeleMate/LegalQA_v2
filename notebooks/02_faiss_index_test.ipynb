{
 "cells": [
  {
   "cell_type": "code",
   "execution_count": 1,
   "metadata": {},
   "outputs": [],
   "source": [
    "from dotenv import load_dotenv\n",
    "import os\n",
    "import pandas as pd\n",
    "import numpy as np\n",
    "import faiss\n",
    "\n",
    "load_dotenv()\n",
    "\n",
    "if os.path.basename(os.getcwd()) == \"notebooks\":\n",
    "    os.chdir(\"..\")\n",
    "\n",
    "PARQUET_PATH = os.getenv(\"PARQUET_PATH\")\n",
    "assert PARQUET_PATH is not None, \"PARQUET_PATH variable is missing!\""
   ]
  },
  {
   "cell_type": "code",
   "execution_count": 2,
   "metadata": {},
   "outputs": [
    {
     "data": {
      "text/html": [
       "<div>\n",
       "<style scoped>\n",
       "    .dataframe tbody tr th:only-of-type {\n",
       "        vertical-align: middle;\n",
       "    }\n",
       "\n",
       "    .dataframe tbody tr th {\n",
       "        vertical-align: top;\n",
       "    }\n",
       "\n",
       "    .dataframe thead th {\n",
       "        text-align: right;\n",
       "    }\n",
       "</style>\n",
       "<table border=\"1\" class=\"dataframe\">\n",
       "  <thead>\n",
       "    <tr style=\"text-align: right;\">\n",
       "      <th></th>\n",
       "      <th>doc_id</th>\n",
       "      <th>MeghozoBirosag</th>\n",
       "      <th>JogTerulet</th>\n",
       "      <th>Jogszabalyhelyek</th>\n",
       "      <th>HatarozatEve</th>\n",
       "      <th>AllKapcsolodoUgyszam</th>\n",
       "      <th>AllKapcsolodoBirosag</th>\n",
       "      <th>KapcsolodoHatarozatok</th>\n",
       "      <th>text</th>\n",
       "      <th>embedding</th>\n",
       "    </tr>\n",
       "  </thead>\n",
       "  <tbody>\n",
       "    <tr>\n",
       "      <th>0</th>\n",
       "      <td>Bf.262/2011/12</td>\n",
       "      <td>Pécsi Ítélőtábla</td>\n",
       "      <td>büntetőjog</td>\n",
       "      <td>1998. évi XIX. törvény a büntetőeljárásról 348...</td>\n",
       "      <td>2011.0</td>\n",
       "      <td>[\"B.54/2010/26\"]</td>\n",
       "      <td>[\"Szekszárdi Törvényszék\"]</td>\n",
       "      <td>[{\"KapcsolodoUgyszam\": \"B.54/2010/26\", \"Kapcso...</td>\n",
       "      <td>A Pécsi Ítélőtábla, mint másodfokú bíróság Bf....</td>\n",
       "      <td>[-0.025117767974734306, 0.037775538861751556, ...</td>\n",
       "    </tr>\n",
       "    <tr>\n",
       "      <th>1</th>\n",
       "      <td>Bf.34/2015/29</td>\n",
       "      <td>Pécsi Ítélőtábla</td>\n",
       "      <td>büntetőjog</td>\n",
       "      <td>1998. évi XIX. törvény a büntetőeljárásról 335...</td>\n",
       "      <td>2016.0</td>\n",
       "      <td>[\"B.11/2014/18\"]</td>\n",
       "      <td>[\"Zalaegerszegi Törvényszék\"]</td>\n",
       "      <td>[{\"KapcsolodoUgyszam\": \"B.11/2014/18\", \"Kapcso...</td>\n",
       "      <td>A Pécsi Ítélőtábla, mint másodfokú bíróság Bf....</td>\n",
       "      <td>[-0.028827665373682976, 0.03442743048071861, -...</td>\n",
       "    </tr>\n",
       "    <tr>\n",
       "      <th>2</th>\n",
       "      <td>Bf.111/2007/8</td>\n",
       "      <td>Pécsi Ítélőtábla</td>\n",
       "      <td>büntetőjog</td>\n",
       "      <td>1998. évi XIX. törvény a büntetőeljárásról 351...</td>\n",
       "      <td>2007.0</td>\n",
       "      <td>[\"Bhar.966/2007/10\", \"B.185/2006/18\"]</td>\n",
       "      <td>[\"Kúria\", \"Szekszárdi Törvényszék\"]</td>\n",
       "      <td>[{\"KapcsolodoUgyszam\": \"Bhar.966/2007/10\", \"Ka...</td>\n",
       "      <td>A Pécsi Ítélőtábla, mint másodfokú bíróság Bf....</td>\n",
       "      <td>[-0.031228363513946533, 0.01903749816119671, -...</td>\n",
       "    </tr>\n",
       "    <tr>\n",
       "      <th>3</th>\n",
       "      <td>Bf.95/2014/10</td>\n",
       "      <td>Pécsi Ítélőtábla</td>\n",
       "      <td>büntetőjog</td>\n",
       "      <td>1978. évi IV. törvény a Büntető Törvénykönyvrő...</td>\n",
       "      <td>2015.0</td>\n",
       "      <td>[\"B.226/2012/189\"]</td>\n",
       "      <td>[\"Pécsi Törvényszék\"]</td>\n",
       "      <td>[{\"KapcsolodoUgyszam\": \"B.226/2012/189\", \"Kapc...</td>\n",
       "      <td>A Pécsi Ítélőtábla, mint másodfokú bíróság Bf....</td>\n",
       "      <td>[-0.02428455650806427, 0.018554724752902985, 0...</td>\n",
       "    </tr>\n",
       "    <tr>\n",
       "      <th>4</th>\n",
       "      <td>Bhar.181/2012/8</td>\n",
       "      <td>Pécsi Ítélőtábla</td>\n",
       "      <td>büntetőjog</td>\n",
       "      <td>1998. évi XIX. törvény a büntetőeljárásról 387...</td>\n",
       "      <td>2012.0</td>\n",
       "      <td>[\"Bf.1/2012/3\", \"B.151/2011/8\"]</td>\n",
       "      <td>[\"Szekszárdi Törvényszék\", \"Tamási Járásbíróság\"]</td>\n",
       "      <td>[{\"KapcsolodoUgyszam\": \"Bf.1/2012/3\", \"Kapcsol...</td>\n",
       "      <td>A Pécsi Ítélőtábla, mint harmadfokú bíróság Bh...</td>\n",
       "      <td>[0.002832422498613596, 0.015901876613497734, -...</td>\n",
       "    </tr>\n",
       "  </tbody>\n",
       "</table>\n",
       "</div>"
      ],
      "text/plain": [
       "            doc_id    MeghozoBirosag  JogTerulet  \\\n",
       "0   Bf.262/2011/12  Pécsi Ítélőtábla  büntetőjog   \n",
       "1    Bf.34/2015/29  Pécsi Ítélőtábla  büntetőjog   \n",
       "2    Bf.111/2007/8  Pécsi Ítélőtábla  büntetőjog   \n",
       "3    Bf.95/2014/10  Pécsi Ítélőtábla  büntetőjog   \n",
       "4  Bhar.181/2012/8  Pécsi Ítélőtábla  büntetőjog   \n",
       "\n",
       "                                    Jogszabalyhelyek  HatarozatEve  \\\n",
       "0  1998. évi XIX. törvény a büntetőeljárásról 348...        2011.0   \n",
       "1  1998. évi XIX. törvény a büntetőeljárásról 335...        2016.0   \n",
       "2  1998. évi XIX. törvény a büntetőeljárásról 351...        2007.0   \n",
       "3  1978. évi IV. törvény a Büntető Törvénykönyvrő...        2015.0   \n",
       "4  1998. évi XIX. törvény a büntetőeljárásról 387...        2012.0   \n",
       "\n",
       "                    AllKapcsolodoUgyszam  \\\n",
       "0                       [\"B.54/2010/26\"]   \n",
       "1                       [\"B.11/2014/18\"]   \n",
       "2  [\"Bhar.966/2007/10\", \"B.185/2006/18\"]   \n",
       "3                     [\"B.226/2012/189\"]   \n",
       "4        [\"Bf.1/2012/3\", \"B.151/2011/8\"]   \n",
       "\n",
       "                                AllKapcsolodoBirosag  \\\n",
       "0                         [\"Szekszárdi Törvényszék\"]   \n",
       "1                      [\"Zalaegerszegi Törvényszék\"]   \n",
       "2                [\"Kúria\", \"Szekszárdi Törvényszék\"]   \n",
       "3                              [\"Pécsi Törvényszék\"]   \n",
       "4  [\"Szekszárdi Törvényszék\", \"Tamási Járásbíróság\"]   \n",
       "\n",
       "                               KapcsolodoHatarozatok  \\\n",
       "0  [{\"KapcsolodoUgyszam\": \"B.54/2010/26\", \"Kapcso...   \n",
       "1  [{\"KapcsolodoUgyszam\": \"B.11/2014/18\", \"Kapcso...   \n",
       "2  [{\"KapcsolodoUgyszam\": \"Bhar.966/2007/10\", \"Ka...   \n",
       "3  [{\"KapcsolodoUgyszam\": \"B.226/2012/189\", \"Kapc...   \n",
       "4  [{\"KapcsolodoUgyszam\": \"Bf.1/2012/3\", \"Kapcsol...   \n",
       "\n",
       "                                                text  \\\n",
       "0  A Pécsi Ítélőtábla, mint másodfokú bíróság Bf....   \n",
       "1  A Pécsi Ítélőtábla, mint másodfokú bíróság Bf....   \n",
       "2  A Pécsi Ítélőtábla, mint másodfokú bíróság Bf....   \n",
       "3  A Pécsi Ítélőtábla, mint másodfokú bíróság Bf....   \n",
       "4  A Pécsi Ítélőtábla, mint harmadfokú bíróság Bh...   \n",
       "\n",
       "                                           embedding  \n",
       "0  [-0.025117767974734306, 0.037775538861751556, ...  \n",
       "1  [-0.028827665373682976, 0.03442743048071861, -...  \n",
       "2  [-0.031228363513946533, 0.01903749816119671, -...  \n",
       "3  [-0.02428455650806427, 0.018554724752902985, 0...  \n",
       "4  [0.002832422498613596, 0.015901876613497734, -...  "
      ]
     },
     "execution_count": 2,
     "metadata": {},
     "output_type": "execute_result"
    }
   ],
   "source": [
    "df = pd.read_parquet(PARQUET_PATH)\n",
    "df.head()"
   ]
  },
  {
   "cell_type": "code",
   "execution_count": 3,
   "metadata": {},
   "outputs": [
    {
     "name": "stdout",
     "output_type": "stream",
     "text": [
      "Embedding dimension: 1536\n"
     ]
    }
   ],
   "source": [
    "sample = df[\"embedding\"].iloc[0]\n",
    "print(\"Embedding dimension:\", len(sample))"
   ]
  },
  {
   "cell_type": "code",
   "execution_count": 5,
   "metadata": {},
   "outputs": [
    {
     "name": "stdout",
     "output_type": "stream",
     "text": [
      "Eredeti sorok száma: 213398\n",
      "Tisztítás utáni sorok száma: 213351\n",
      "Eltávolított sorok száma: 47\n",
      "\n",
      "FAISS index építése...\n",
      "FAISS index sikeresen felépítve.\n"
     ]
    }
   ],
   "source": [
    "# Adattisztítás az index építése előtt\n",
    "initial_rows = len(df)\n",
    "df_cleaned = df.dropna(subset=['embedding']).copy()\n",
    "\n",
    "# A beágyazások dimenzióinak ellenőrzése\n",
    "EXPECTED_DIM = 1536\n",
    "mask = df_cleaned['embedding'].apply(lambda x: isinstance(x, np.ndarray) and x.shape[0] == EXPECTED_DIM)\n",
    "df_cleaned = df_cleaned[mask]\n",
    "\n",
    "removed_rows = initial_rows - len(df_cleaned)\n",
    "print(f\"Eredeti sorok száma: {initial_rows}\")\n",
    "print(f\"Tisztítás utáni sorok száma: {len(df_cleaned)}\")\n",
    "print(f\"Eltávolított sorok száma: {removed_rows}\")\n",
    "\n",
    "# Index építése a tisztított adatokból\n",
    "print(\"\\nFAISS index építése...\")\n",
    "embedding_matrix = np.vstack(df_cleaned[\"embedding\"].values)\n",
    "index = faiss.IndexFlatL2(embedding_matrix.shape[1])\n",
    "index.add(embedding_matrix)\n",
    "print(\"FAISS index sikeresen felépítve.\")\n",
    "\n",
    "# Fontos: Az ID mappinget is a tisztított DataFrame-ből kell készíteni!\n",
    "# A df.iterrows() helyett a df_cleaned.reset_index().iterrows() használata biztosítja a helyes megfeleltetést.\n",
    "id_mapping = {i: row[\"doc_id\"] for i, row in df_cleaned.reset_index(drop=True).iterrows()}"
   ]
  },
  {
   "cell_type": "code",
   "execution_count": 6,
   "metadata": {},
   "outputs": [],
   "source": [
    "faiss.write_index(index, \"data/processed/faiss_index.bin\")\n",
    "\n",
    "id_mapping = {i: row[\"doc_id\"] for i, row in df.iterrows()}\n",
    "import pickle\n",
    "with open(\"data/processed/faiss_id_mapping.pkl\", \"wb\") as f:\n",
    "    pickle.dump(id_mapping, f)"
   ]
  },
  {
   "cell_type": "code",
   "execution_count": 7,
   "metadata": {},
   "outputs": [],
   "source": [
    "faiss.write_index(index, \"data/processed/faiss_index.bin\")\n",
    "\n",
    "id_mapping = {i: row[\"doc_id\"] for i, row in df.iterrows()}\n",
    "import pickle\n",
    "with open(\"data/processed/faiss_id_mapping.pkl\", \"wb\") as f:\n",
    "    pickle.dump(id_mapping, f)"
   ]
  },
  {
   "cell_type": "code",
   "execution_count": 8,
   "metadata": {},
   "outputs": [
    {
     "data": {
      "text/plain": [
       "['Bf.262/2011/12',\n",
       " 'Bf.71/2023/39',\n",
       " 'Bf.255/2007/9',\n",
       " 'Bhar.38/2016/13',\n",
       " 'Bf.273/2011/17']"
      ]
     },
     "execution_count": 8,
     "metadata": {},
     "output_type": "execute_result"
    }
   ],
   "source": [
    "query = df[\"embedding\"].iloc[0]\n",
    "_, indices = index.search(np.array([query]), k=5)\n",
    "[ id_mapping[i] for i in indices[0] ]"
   ]
  }
 ],
 "metadata": {
  "kernelspec": {
   "display_name": "venv",
   "language": "python",
   "name": "python3"
  },
  "language_info": {
   "codemirror_mode": {
    "name": "ipython",
    "version": 3
   },
   "file_extension": ".py",
   "mimetype": "text/x-python",
   "name": "python",
   "nbconvert_exporter": "python",
   "pygments_lexer": "ipython3",
   "version": "3.12.4"
  }
 },
 "nbformat": 4,
 "nbformat_minor": 2
}
